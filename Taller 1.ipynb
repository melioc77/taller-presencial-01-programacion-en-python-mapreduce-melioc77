{
 "cells": [
  {
   "cell_type": "markdown",
   "metadata": {},
   "source": [
    "Viernes 16, Febrero 2024\n",
    "+ No puedo traer un programa ya compilado porque no son compatibles en algunas máquinas.\n",
    "+ Se tiene un programa en un código fuente y se reescribe en otro lenguaje,  por ejemplo, toma un código en Java y por medio del traductor lo convierte en C. El traductor de python toma el código y lo traduce en bytesCodes, y el procesador físico es el que ejecuta. \n",
    "+ Tomamos lenguaje de alto nivel y lla máquina lo traduce. El código interpretado traduce el cpodigo de alto nivel al lenguaje de la máquina, y se puede llevar a otros sistemas operativos.  \n",
    "+ Jupyter puede correr varios lenguajes pero dependerá del Kernel, que es el lenguaje que quiero compilar.\n",
    "+ Lambda es el comando para nombrar funciones anónimas"
   ]
  },
  {
   "cell_type": "code",
   "execution_count": 11,
   "metadata": {},
   "outputs": [
    {
     "data": {
      "text/plain": [
       "'Python'"
      ]
     },
     "execution_count": 11,
     "metadata": {},
     "output_type": "execute_result"
    }
   ],
   "source": [
    "import glob\n",
    "import fileinput\n",
    "def load_input(input_directory):\n",
    "\n",
    "    sequence = []\n",
    "    filenames = glob.glob(input_directory + \"/*.txt\")#* es todo lo que tengo dentro de la carpeta\n",
    "    with fileinput.input(files=filenames) as f:\n",
    "        for line in f:\n",
    "            sequence.append((fileinput.filename(), line))                                                \n",
    "    return sequence  "
   ]
  },
  {
   "cell_type": "markdown",
   "metadata": {},
   "source": [
    "Se crea una función llamada Load_input, la cual se encarga de localizar los documentos al interior de una carpeta (folder), esto lo hace a través del comando glob.glob que según el factor que el criterio que se le de, ubica el tipo de documento requerido en la búsqueda. Luego con el comando fileinput, se crea un elemento iterable (f) que toma las direcciones de los archivos que se encontraron en el glob.glob, para esto se usa el comando fileinput.input, que abre archivos dentro de la lista creada con los documentos. Esto se hace con el fin de poder ingresar a dichos archivos y agregar en forma de tuples, los archivos a una lista previamente definida."
   ]
  },
  {
   "cell_type": "markdown",
   "metadata": {},
   "source": [
    "Viernes 23, Febrero 2024"
   ]
  },
  {
   "cell_type": "code",
   "execution_count": 1,
   "metadata": {},
   "outputs": [
    {
     "data": {
      "text/plain": [
       "0"
      ]
     },
     "metadata": {},
     "output_type": "display_data"
    },
    {
     "data": {
      "text/plain": [
       "1"
      ]
     },
     "metadata": {},
     "output_type": "display_data"
    }
   ],
   "source": [
    "#\n",
    "# Se define la variable como global\n",
    "#\n",
    "global_var = 0\n",
    "\n",
    "\n",
    "def user_function():\n",
    "    \"\"\"Cambia el valor de la variable global\"\"\"\n",
    "    global global_var\n",
    "    global_var += 1\n",
    "\n",
    "\n",
    "display(global_var)\n",
    "user_function()\n",
    "display(global_var)"
   ]
  },
  {
   "cell_type": "markdown",
   "metadata": {},
   "source": [
    "Esta función utilia el comando global para modificar el valor de una variable globlamente."
   ]
  },
  {
   "cell_type": "code",
   "execution_count": 2,
   "metadata": {},
   "outputs": [
    {
     "data": {
      "text/plain": [
       "2"
      ]
     },
     "execution_count": 2,
     "metadata": {},
     "output_type": "execute_result"
    }
   ],
   "source": [
    "#\n",
    "# Función anónima o lambda\n",
    "# =============================================================================\n",
    "#(lambda x: x + 1)(2) #se usa directamente\n",
    "incr_ = lambda x: x + 1\n",
    "incr_(1)"
   ]
  },
  {
   "cell_type": "markdown",
   "metadata": {},
   "source": [
    "Snniper de código:\n",
    "+ es el ejemplo del código que es típic para la ejecución de funciones.\n",
    "+ Diseño de patrones: por ejemplo Bubble algoritmo, cómo sacar un archivo, como llamarlo, etc.\n"
   ]
  },
  {
   "cell_type": "code",
   "execution_count": null,
   "metadata": {},
   "outputs": [],
   "source": [
    "import glob\n",
    "import fileinput\n",
    "def load_input(input_directory):"
   ]
  },
  {
   "cell_type": "markdown",
   "metadata": {},
   "source": []
  }
 ],
 "metadata": {
  "kernelspec": {
   "display_name": "Python 3",
   "language": "python",
   "name": "python3"
  },
  "language_info": {
   "codemirror_mode": {
    "name": "ipython",
    "version": 3
   },
   "file_extension": ".py",
   "mimetype": "text/x-python",
   "name": "python",
   "nbconvert_exporter": "python",
   "pygments_lexer": "ipython3",
   "version": "3.9.13"
  }
 },
 "nbformat": 4,
 "nbformat_minor": 2
}
